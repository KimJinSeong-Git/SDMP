{
 "cells": [
  {
   "cell_type": "markdown",
   "metadata": {},
   "source": [
    "### Optimal Fixed/Unfixed Length Plan\n",
    "![nn](./imgs/Reference%20Graph.png)\n",
    "- Forward value iteration\n",
    "- Compute \"Cost-to-Go\"\n",
    "- Fixed-Length"
   ]
  },
  {
   "cell_type": "markdown",
   "metadata": {},
   "source": [
    "### Import Modules"
   ]
  },
  {
   "cell_type": "code",
   "execution_count": 27,
   "metadata": {},
   "outputs": [],
   "source": [
    "from math import inf\n",
    "import numpy as np"
   ]
  },
  {
   "cell_type": "markdown",
   "metadata": {},
   "source": [
    "### Hyperparameters"
   ]
  },
  {
   "cell_type": "code",
   "execution_count": 28,
   "metadata": {},
   "outputs": [],
   "source": [
    "step_size = 5\n",
    "start = 0"
   ]
  },
  {
   "cell_type": "markdown",
   "metadata": {},
   "source": [
    "### Initialization"
   ]
  },
  {
   "cell_type": "code",
   "execution_count": 29,
   "metadata": {},
   "outputs": [],
   "source": [
    "adj = np.array([[2, 2, inf, inf, inf],\n",
    "                [inf, inf, 1, 4, inf],\n",
    "                [1, inf, inf, 1, inf],\n",
    "                [inf, inf, 1, inf, 1],\n",
    "                [inf, inf, inf, inf, inf]])\n",
    "\n",
    "plan = np.array([[inf, inf, inf, inf, inf],\n",
    "                 [inf, inf, inf, inf, inf],\n",
    "                 [inf, inf, inf, inf, inf],\n",
    "                 [inf, inf, inf, inf, inf],\n",
    "                 [inf, inf, inf, inf, inf]])\n",
    "\n",
    "plan[0, start] = 0"
   ]
  },
  {
   "cell_type": "markdown",
   "metadata": {},
   "source": [
    "### Forward Iteration"
   ]
  },
  {
   "cell_type": "code",
   "execution_count": 30,
   "metadata": {},
   "outputs": [],
   "source": [
    "for g in range(step_size-1):\n",
    "    for src in range(len(plan[g])):\n",
    "        if plan[g, src] < inf:\n",
    "            local_plan = adj[src] + plan[g, src]\n",
    "            plan[g+1] = np.minimum(plan[g+1], local_plan)"
   ]
  },
  {
   "cell_type": "markdown",
   "metadata": {},
   "source": [
    "### Results"
   ]
  },
  {
   "cell_type": "code",
   "execution_count": 26,
   "metadata": {},
   "outputs": [
    {
     "name": "stdout",
     "output_type": "stream",
     "text": [
      "[[ 0. inf inf inf inf]\n",
      " [ 2.  2. inf inf inf]\n",
      " [ 4.  4.  3.  6. inf]\n",
      " [ 4.  6.  5.  4.  7.]\n",
      " [ 6.  6.  5.  6.  5.]]\n"
     ]
    }
   ],
   "source": [
    "print(plan)"
   ]
  }
 ],
 "metadata": {
  "kernelspec": {
   "display_name": "SDMP_py39",
   "language": "python",
   "name": "python3"
  },
  "language_info": {
   "codemirror_mode": {
    "name": "ipython",
    "version": 3
   },
   "file_extension": ".py",
   "mimetype": "text/x-python",
   "name": "python",
   "nbconvert_exporter": "python",
   "pygments_lexer": "ipython3",
   "version": "3.9.18"
  }
 },
 "nbformat": 4,
 "nbformat_minor": 2
}
