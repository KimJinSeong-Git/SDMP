{
 "cells": [
  {
   "cell_type": "markdown",
   "metadata": {},
   "source": [
    "### Optimal Fixed/Unfixed Length Plan\n",
    "![nn](./imgs/Reference%20Graph.png)\n",
    "- Forward value iteration\n",
    "- Compute \"Cost-to-Come\"\n",
    "- Unfixed-Length"
   ]
  },
  {
   "cell_type": "markdown",
   "metadata": {},
   "source": [
    "### Import Modules"
   ]
  },
  {
   "cell_type": "code",
   "execution_count": 37,
   "metadata": {},
   "outputs": [],
   "source": [
    "from math import inf\n",
    "import numpy as np"
   ]
  },
  {
   "cell_type": "markdown",
   "metadata": {},
   "source": [
    "### Hyperparameter"
   ]
  },
  {
   "cell_type": "code",
   "execution_count": 38,
   "metadata": {},
   "outputs": [],
   "source": [
    "start = 1"
   ]
  },
  {
   "cell_type": "markdown",
   "metadata": {},
   "source": [
    "### Initialization"
   ]
  },
  {
   "cell_type": "code",
   "execution_count": 39,
   "metadata": {},
   "outputs": [],
   "source": [
    "adj = np.array([[2, 2, inf, inf, inf],\n",
    "                [inf, inf, 1, 4, inf],\n",
    "                [1, inf, inf, 1, inf],\n",
    "                [inf, inf, 1, inf, 1],\n",
    "                [inf, inf, inf, inf, inf]])\n",
    "\n",
    "plan = np.full((adj.shape[0]), inf)\n",
    "\n",
    "plan[start] = 0"
   ]
  },
  {
   "cell_type": "markdown",
   "metadata": {},
   "source": [
    "### Forward Iteration"
   ]
  },
  {
   "cell_type": "code",
   "execution_count": 40,
   "metadata": {},
   "outputs": [
    {
     "name": "stdout",
     "output_type": "stream",
     "text": [
      "[2. 0. 1. 2. 3.]\n",
      "[2. 0. 1. 2. 3.]\n"
     ]
    }
   ],
   "source": [
    "prev_plan = np.array([-1, -1, -1, -1, -1])\n",
    "while not np.array_equal(prev_plan, plan):\n",
    "    prev_plan = plan\n",
    "    for src in range(len(plan)):\n",
    "        if plan[src] < inf:\n",
    "            local_plan = adj[src, :] + plan[src]\n",
    "            plan = np.minimum(plan, local_plan)\n",
    "    print(plan)"
   ]
  },
  {
   "cell_type": "markdown",
   "metadata": {},
   "source": [
    "### Result"
   ]
  },
  {
   "cell_type": "code",
   "execution_count": 41,
   "metadata": {},
   "outputs": [
    {
     "name": "stdout",
     "output_type": "stream",
     "text": [
      "[2. 0. 1. 2. 3.]\n"
     ]
    }
   ],
   "source": [
    "print(plan)"
   ]
  }
 ],
 "metadata": {
  "kernelspec": {
   "display_name": "open_source",
   "language": "python",
   "name": "python3"
  },
  "language_info": {
   "codemirror_mode": {
    "name": "ipython",
    "version": 3
   },
   "file_extension": ".py",
   "mimetype": "text/x-python",
   "name": "python",
   "nbconvert_exporter": "python",
   "pygments_lexer": "ipython3",
   "version": "3.11.5"
  }
 },
 "nbformat": 4,
 "nbformat_minor": 2
}
