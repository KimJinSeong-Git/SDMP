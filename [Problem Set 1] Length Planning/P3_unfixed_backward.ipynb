{
 "cells": [
  {
   "cell_type": "markdown",
   "metadata": {},
   "source": [
    "### Optimal Fixed/Unfixed Length Plan\n",
    "![nn](./imgs/Reference%20Graph.png)\n",
    "- Backward value iteration\n",
    "- Compute \"Cost-to-Go\"\n",
    "- Unfixed-Length"
   ]
  },
  {
   "cell_type": "markdown",
   "metadata": {},
   "source": [
    "### Import Modules"
   ]
  },
  {
   "cell_type": "code",
   "execution_count": 2,
   "metadata": {},
   "outputs": [],
   "source": [
    "from math import inf\n",
    "import numpy as np"
   ]
  },
  {
   "cell_type": "markdown",
   "metadata": {},
   "source": [
    "### Hyperparameter"
   ]
  },
  {
   "cell_type": "code",
   "execution_count": 5,
   "metadata": {},
   "outputs": [],
   "source": [
    "goal = 3"
   ]
  },
  {
   "cell_type": "markdown",
   "metadata": {},
   "source": [
    "### Initialization"
   ]
  },
  {
   "cell_type": "code",
   "execution_count": 6,
   "metadata": {},
   "outputs": [],
   "source": [
    "adj = np.array([[2, 2, inf, inf, inf],\n",
    "                [inf, inf, 1, 4, inf],\n",
    "                [1, inf, inf, 1, inf],\n",
    "                [inf, inf, 1, inf, 1],\n",
    "                [inf, inf, inf, inf, inf]])\n",
    "\n",
    "plan = np.full((adj.shape[0]), inf)\n",
    "\n",
    "plan[goal] = 0"
   ]
  },
  {
   "cell_type": "markdown",
   "metadata": {},
   "source": [
    "### Backward Iteration"
   ]
  },
  {
   "cell_type": "code",
   "execution_count": 64,
   "metadata": {},
   "outputs": [
    {
     "name": "stdout",
     "output_type": "stream",
     "text": [
      "[inf  4.  1.  0. inf]\n",
      "[ 6.  2.  1.  0. inf]\n",
      "[ 4.  2.  1.  0. inf]\n",
      "[ 4.  2.  1.  0. inf]\n"
     ]
    }
   ],
   "source": [
    "prev_plan = np.array([-1, -1, -1, -1, -1])\n",
    "while not np.array_equal(prev_plan, plan):\n",
    "    prev_plan = plan\n",
    "    for dst in range(len(plan)):\n",
    "        if plan[dst] < inf:\n",
    "            local_plan = adj[:, dst] + plan[dst]\n",
    "            plan = np.minimum(plan, local_plan)\n",
    "    print(plan)"
   ]
  },
  {
   "cell_type": "markdown",
   "metadata": {},
   "source": [
    "### Result"
   ]
  },
  {
   "cell_type": "code",
   "execution_count": 65,
   "metadata": {},
   "outputs": [
    {
     "name": "stdout",
     "output_type": "stream",
     "text": [
      "[ 4.  2.  1.  0. inf]\n"
     ]
    }
   ],
   "source": [
    "print(plan)"
   ]
  }
 ],
 "metadata": {
  "kernelspec": {
   "display_name": "open_source",
   "language": "python",
   "name": "python3"
  },
  "language_info": {
   "codemirror_mode": {
    "name": "ipython",
    "version": 3
   },
   "file_extension": ".py",
   "mimetype": "text/x-python",
   "name": "python",
   "nbconvert_exporter": "python",
   "pygments_lexer": "ipython3",
   "version": "3.11.5"
  }
 },
 "nbformat": 4,
 "nbformat_minor": 2
}
