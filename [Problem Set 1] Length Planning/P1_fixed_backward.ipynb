{
 "cells": [
  {
   "cell_type": "markdown",
   "metadata": {},
   "source": [
    "### Optimal Fixed/Unfixed Length Plan\n",
    "![nn](./imgs/Reference%20Graph.png)\n",
    "- Backward value iteration\n",
    "- Compute \"Cost-to-Go\"\n",
    "- Fixed-Length"
   ]
  },
  {
   "cell_type": "markdown",
   "metadata": {},
   "source": [
    "### Import Modules"
   ]
  },
  {
   "cell_type": "code",
   "execution_count": null,
   "metadata": {},
   "outputs": [],
   "source": [
    "from math import inf\n",
    "import numpy as np"
   ]
  },
  {
   "cell_type": "markdown",
   "metadata": {},
   "source": [
    "### Hyperparameters"
   ]
  },
  {
   "cell_type": "code",
   "execution_count": 12,
   "metadata": {},
   "outputs": [],
   "source": [
    "step_size = 5\n",
    "goal = 3"
   ]
  },
  {
   "cell_type": "markdown",
   "metadata": {},
   "source": [
    "### Initialization"
   ]
  },
  {
   "cell_type": "code",
   "execution_count": 24,
   "metadata": {},
   "outputs": [],
   "source": [
    "adj = np.array([[2, 2, inf, inf, inf],\n",
    "                [inf, inf, 1, 4, inf],\n",
    "                [1, inf, inf, 1, inf],\n",
    "                [inf, inf, 1, inf, 1],\n",
    "                [inf, inf, inf, inf, inf]])\n",
    "\n",
    "plan = np.array([[inf, inf, inf, inf, inf],\n",
    "                 [inf, inf, inf, inf, inf],\n",
    "                 [inf, inf, inf, inf, inf],\n",
    "                 [inf, inf, inf, inf, inf],\n",
    "                 [inf, inf, inf, inf, inf]])\n",
    "\n",
    "plan[-1, goal] = 0"
   ]
  },
  {
   "cell_type": "markdown",
   "metadata": {},
   "source": [
    "### Backward Iteration"
   ]
  },
  {
   "cell_type": "code",
   "execution_count": 45,
   "metadata": {},
   "outputs": [
    {
     "name": "stdout",
     "output_type": "stream",
     "text": [
      "[inf  4.  1. inf inf]\n",
      "\n",
      "[ 6. inf inf inf inf]\n",
      "[inf  2. inf  2. inf]\n",
      "\n",
      "[ 4. inf inf inf inf]\n",
      "[inf  6.  3. inf inf]\n",
      "\n",
      "[ 8. inf inf inf inf]\n",
      "[inf  4. inf  4. inf]\n",
      "\n"
     ]
    },
    {
     "data": {
      "text/plain": [
       "array([[inf,  4., inf,  4., inf],\n",
       "       [inf,  6.,  3., inf, inf],\n",
       "       [inf,  2., inf,  2., inf],\n",
       "       [inf,  4.,  1., inf, inf],\n",
       "       [inf, inf, inf,  0., inf]])"
      ]
     },
     "execution_count": 45,
     "metadata": {},
     "output_type": "execute_result"
    }
   ],
   "source": [
    "for g in range(step_size-2, -1, -1):\n",
    "    for dst in range(len(adj)):\n",
    "        #print(f'{g}: {dst}')\n",
    "        if plan[g+1, dst] < inf:\n",
    "            plan[g] = adj[:, dst] + plan[g+1, dst]\n",
    "            print(plan[g])\n",
    "    print()\n",
    "plan    "
   ]
  }
 ],
 "metadata": {
  "kernelspec": {
   "display_name": "open_source",
   "language": "python",
   "name": "python3"
  },
  "language_info": {
   "codemirror_mode": {
    "name": "ipython",
    "version": 3
   },
   "file_extension": ".py",
   "mimetype": "text/x-python",
   "name": "python",
   "nbconvert_exporter": "python",
   "pygments_lexer": "ipython3",
   "version": "3.11.5"
  }
 },
 "nbformat": 4,
 "nbformat_minor": 2
}
