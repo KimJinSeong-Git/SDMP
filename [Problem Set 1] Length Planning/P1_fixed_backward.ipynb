{
 "cells": [
  {
   "cell_type": "markdown",
   "metadata": {},
   "source": [
    "### Optimal Fixed/Unfixed Length Plan\n",
    "![nn](./imgs/Reference%20Graph.png)\n",
    "- Backward value iteration\n",
    "- Compute \"Cost-to-Go\"\n",
    "- Fixed-Length"
   ]
  },
  {
   "cell_type": "code",
   "execution_count": null,
   "metadata": {},
   "outputs": [],
   "source": []
  }
 ],
 "metadata": {
  "language_info": {
   "name": "python"
  }
 },
 "nbformat": 4,
 "nbformat_minor": 2
}
